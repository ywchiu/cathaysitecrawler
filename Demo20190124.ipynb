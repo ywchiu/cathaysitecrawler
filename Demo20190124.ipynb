{
 "cells": [
  {
   "cell_type": "markdown",
   "metadata": {},
   "source": [
    "## Python Basic"
   ]
  },
  {
   "cell_type": "code",
   "execution_count": 1,
   "metadata": {},
   "outputs": [
    {
     "data": {
      "text/plain": [
       "5"
      ]
     },
     "execution_count": 1,
     "metadata": {},
     "output_type": "execute_result"
    }
   ],
   "source": [
    "a = 3 \n",
    "b = 2\n",
    "a + b"
   ]
  },
  {
   "cell_type": "markdown",
   "metadata": {},
   "source": [
    "## Requests GET"
   ]
  },
  {
   "cell_type": "code",
   "execution_count": 2,
   "metadata": {},
   "outputs": [
    {
     "data": {
      "text/plain": [
       "<Response [200]>"
      ]
     },
     "execution_count": 2,
     "metadata": {},
     "output_type": "execute_result"
    }
   ],
   "source": [
    "import requests\n",
    "res = requests.get('https://tw.appledaily.com/new/realtime')"
   ]
  },
  {
   "cell_type": "code",
   "execution_count": 6,
   "metadata": {},
   "outputs": [],
   "source": [
    "#res.text"
   ]
  },
  {
   "cell_type": "code",
   "execution_count": 5,
   "metadata": {},
   "outputs": [],
   "source": [
    "import requests\n",
    "res = requests.get('http://www.twse.com.tw/fund/BFI82U?response=json&dayDate=&weekDate=&monthDate=&type=day&_=1548297374422')\n",
    "#res.text"
   ]
  },
  {
   "cell_type": "markdown",
   "metadata": {},
   "source": [
    "## Pytesseract"
   ]
  },
  {
   "cell_type": "code",
   "execution_count": 7,
   "metadata": {},
   "outputs": [
    {
     "name": "stdout",
     "output_type": "stream",
     "text": [
      "Collecting pytesseract\n",
      "  Downloading https://files.pythonhosted.org/packages/71/5a/d7600cad26276d991feecb27f3627ae2d0ee89aa1e3065fa4f9f1f2defbc/pytesseract-0.2.6.tar.gz (169kB)\n",
      "Requirement already satisfied: Pillow in c:\\programdata\\anaconda3\\lib\\site-packages (from pytesseract) (5.1.0)\n",
      "Building wheels for collected packages: pytesseract\n",
      "  Running setup.py bdist_wheel for pytesseract: started\n",
      "  Running setup.py bdist_wheel for pytesseract: finished with status 'done'\n",
      "  Stored in directory: C:\\Users\\stu\\AppData\\Local\\pip\\Cache\\wheels\\d5\\90\\56\\ab7b652592da86821293f7cadc1c554aa376a0d57ce414d0a0\n",
      "Successfully built pytesseract\n",
      "Installing collected packages: pytesseract\n",
      "Successfully installed pytesseract-0.2.6\n"
     ]
    },
    {
     "name": "stderr",
     "output_type": "stream",
     "text": [
      "distributed 1.21.8 requires msgpack, which is not installed.\n",
      "You are using pip version 10.0.1, however version 19.0.1 is available.\n",
      "You should consider upgrading via the 'python -m pip install --upgrade pip' command.\n"
     ]
    }
   ],
   "source": [
    "! pip install pytesseract"
   ]
  },
  {
   "cell_type": "code",
   "execution_count": 8,
   "metadata": {},
   "outputs": [],
   "source": [
    "import requests\n",
    "res = requests.get('https://serv.gcis.nat.gov.tw/pub/kaptcha.jpg')\n",
    "with open('kaptcha.jpg', 'wb') as f:\n",
    "    f.write(res.content)"
   ]
  },
  {
   "cell_type": "code",
   "execution_count": 9,
   "metadata": {},
   "outputs": [
    {
     "data": {
      "image/png": "[encoded data removed]",
      "text/plain": [
       "<PIL.JpegImagePlugin.JpegImageFile image mode=RGB size=120x40 at 0x5A4CC18>"
      ]
     },
     "execution_count": 9,
     "metadata": {},
     "output_type": "execute_result"
    }
   ],
   "source": [
    "from PIL import Image\n",
    "Image.open('kaptcha.jpg')"
   ]
  },
  {
   "cell_type": "code",
   "execution_count": 11,
   "metadata": {},
   "outputs": [
    {
     "name": "stdout",
     "output_type": "stream",
     "text": [
      "304643\n"
     ]
    }
   ],
   "source": [
    "import pytesseract\n",
    "pytesseract.pytesseract.tesseract_cmd = r'C:\\\\Program Files (x86)\\\\Tesseract-OCR\\\\tesseract.exe'\n",
    "\n",
    "print(pytesseract.image_to_string(Image.open('kaptcha.jpg')))"
   ]
  },
  {
   "cell_type": "markdown",
   "metadata": {},
   "source": [
    "## 買賣日報"
   ]
  },
  {
   "cell_type": "code",
   "execution_count": 23,
   "metadata": {},
   "outputs": [],
   "source": [
    "import requests\n",
    "from bs4 import BeautifulSoup\n",
    "rs = requests.session()\n",
    "res = rs.get('http://bsr.twse.com.tw/bshtm/bsMenu.aspx')\n",
    "soup = BeautifulSoup(res.text, 'lxml')\n",
    "payload = dict([(e.get('name'), e.get('value')) for e in soup.select('input[type=hidden]')])"
   ]
  },
  {
   "cell_type": "code",
   "execution_count": 24,
   "metadata": {},
   "outputs": [],
   "source": [
    "payload.update({\n",
    "'RadioButton_Normal': 'RadioButton_Normal',\n",
    "'TextBox_Stkno': '2454',\n",
    "#'CaptchaControl1': 'GQZLE',\n",
    "'btnOK': '查詢'       \n",
    "})\n",
    "\n",
    "res = rs.post('http://bsr.twse.com.tw/bshtm/bsMenu.aspx', data = payload)"
   ]
  },
  {
   "cell_type": "code",
   "execution_count": 26,
   "metadata": {},
   "outputs": [],
   "source": [
    "res = rs.get('http://bsr.twse.com.tw/bshtm/bsContent.aspx')\n",
    "#print(res.text)"
   ]
  },
  {
   "cell_type": "markdown",
   "metadata": {},
   "source": [
    "## Requests POST"
   ]
  },
  {
   "cell_type": "code",
   "execution_count": 28,
   "metadata": {},
   "outputs": [],
   "source": [
    "import requests\n",
    "url = 'https://www.thsrc.com.tw/tw/TimeTable/Search'\n",
    "\n",
    "payload = {\n",
    "'StartStationName':  '台北站',\n",
    "'EndStationName':    '新竹站',\n",
    "'SearchType': 'S',\n",
    "'StartStation': '977abb69-413a-4ccf-a109-0272c24fd490',\n",
    "'EndStation': 'a7a04c89-900b-4798-95a3-c01c455622f4',\n",
    "'DepartueSearchDate': '2019/01/24',\n",
    "'DepartueSearchTime': '18:00'\n",
    "}\n",
    "\n",
    "res = requests.post(url, data = payload)\n",
    "#res.text"
   ]
  },
  {
   "cell_type": "markdown",
   "metadata": {},
   "source": [
    "## BeautifulSoup\n",
    "- https://www.crummy.com/software/BeautifulSoup/bs4/doc/index.zh.html"
   ]
  },
  {
   "cell_type": "code",
   "execution_count": 30,
   "metadata": {},
   "outputs": [],
   "source": [
    "import requests\n",
    "res = requests.get('https://tw.appledaily.com/new/realtime')\n",
    "#res.text"
   ]
  },
  {
   "cell_type": "code",
   "execution_count": 32,
   "metadata": {},
   "outputs": [
    {
     "data": {
      "text/plain": [
       "requests.models.Response"
      ]
     },
     "execution_count": 32,
     "metadata": {},
     "output_type": "execute_result"
    }
   ],
   "source": [
    "type(res)"
   ]
  },
  {
   "cell_type": "code",
   "execution_count": 31,
   "metadata": {},
   "outputs": [
    {
     "data": {
      "text/plain": [
       "'\\n\\nHello World\\nThis is link1\\nThis is link2\\n\\n'"
      ]
     },
     "execution_count": 31,
     "metadata": {},
     "output_type": "execute_result"
    }
   ],
   "source": [
    "from bs4 import BeautifulSoup\n",
    "\n",
    "html_sample= '''\n",
    "<html>\n",
    "  <body>\n",
    "    <h1 id=\"title\">Hello World</h1>\n",
    "    <a href=\"#\" class=\"link\">This is link1</a>\n",
    "    <a href=\"# link2\" class=\"link\">This is link2</a>\n",
    "  </body>\n",
    "</html>'''\n",
    "\n",
    "soup= BeautifulSoup(html_sample,'lxml')\n",
    "soup.text"
   ]
  },
  {
   "cell_type": "code",
   "execution_count": 33,
   "metadata": {},
   "outputs": [
    {
     "data": {
      "text/plain": [
       "bs4.BeautifulSoup"
      ]
     },
     "execution_count": 33,
     "metadata": {},
     "output_type": "execute_result"
    }
   ],
   "source": [
    "type(soup)"
   ]
  },
  {
   "cell_type": "code",
   "execution_count": 34,
   "metadata": {},
   "outputs": [
    {
     "data": {
      "text/plain": [
       "<h1 id=\"title\">Hello World</h1>"
      ]
     },
     "execution_count": 34,
     "metadata": {},
     "output_type": "execute_result"
    }
   ],
   "source": [
    "soup.select_one('h1')"
   ]
  },
  {
   "cell_type": "code",
   "execution_count": 35,
   "metadata": {},
   "outputs": [
    {
     "data": {
      "text/plain": [
       "'Hello World'"
      ]
     },
     "execution_count": 35,
     "metadata": {},
     "output_type": "execute_result"
    }
   ],
   "source": [
    "soup.select_one('h1').text"
   ]
  },
  {
   "cell_type": "code",
   "execution_count": 36,
   "metadata": {},
   "outputs": [
    {
     "data": {
      "text/plain": [
       "<a class=\"link\" href=\"#\">This is link1</a>"
      ]
     },
     "execution_count": 36,
     "metadata": {},
     "output_type": "execute_result"
    }
   ],
   "source": [
    "soup.select_one('a')"
   ]
  },
  {
   "cell_type": "code",
   "execution_count": 39,
   "metadata": {},
   "outputs": [
    {
     "name": "stdout",
     "output_type": "stream",
     "text": [
      "This is link1\n",
      "#\n",
      "This is link2\n",
      "# link2\n"
     ]
    }
   ],
   "source": [
    "for link in soup.select('a'):\n",
    "    print(link.text)\n",
    "    print(link.get('href'))"
   ]
  },
  {
   "cell_type": "code",
   "execution_count": 40,
   "metadata": {},
   "outputs": [
    {
     "data": {
      "text/plain": [
       "<h1 id=\"title\">Hello World</h1>"
      ]
     },
     "execution_count": 40,
     "metadata": {},
     "output_type": "execute_result"
    }
   ],
   "source": [
    "# id => #\n",
    "soup.select_one('#title')"
   ]
  },
  {
   "cell_type": "code",
   "execution_count": 41,
   "metadata": {},
   "outputs": [
    {
     "data": {
      "text/plain": [
       "<h1 id=\"title\">Hello World</h1>"
      ]
     },
     "execution_count": 41,
     "metadata": {},
     "output_type": "execute_result"
    }
   ],
   "source": [
    "soup.select_one('h1#title')"
   ]
  },
  {
   "cell_type": "code",
   "execution_count": 42,
   "metadata": {},
   "outputs": [
    {
     "data": {
      "text/plain": [
       "<h1 id=\"title\">Hello World</h1>"
      ]
     },
     "execution_count": 42,
     "metadata": {},
     "output_type": "execute_result"
    }
   ],
   "source": [
    "soup.select_one('body h1#title')"
   ]
  },
  {
   "cell_type": "code",
   "execution_count": 43,
   "metadata": {},
   "outputs": [
    {
     "data": {
      "text/plain": [
       "<h1 id=\"title\">Hello World</h1>"
      ]
     },
     "execution_count": 43,
     "metadata": {},
     "output_type": "execute_result"
    }
   ],
   "source": [
    "soup.select_one('body h1')"
   ]
  },
  {
   "cell_type": "code",
   "execution_count": 44,
   "metadata": {},
   "outputs": [
    {
     "data": {
      "text/plain": [
       "<h1 id=\"title\">Hello World</h1>"
      ]
     },
     "execution_count": 44,
     "metadata": {},
     "output_type": "execute_result"
    }
   ],
   "source": [
    "soup.select_one('body #title')"
   ]
  },
  {
   "cell_type": "code",
   "execution_count": 45,
   "metadata": {},
   "outputs": [
    {
     "data": {
      "text/plain": [
       "[<a class=\"link\" href=\"#\">This is link1</a>,\n",
       " <a class=\"link\" href=\"# link2\">This is link2</a>]"
      ]
     },
     "execution_count": 45,
     "metadata": {},
     "output_type": "execute_result"
    }
   ],
   "source": [
    "# class => .\n",
    "soup.select('.link')"
   ]
  },
  {
   "cell_type": "code",
   "execution_count": 46,
   "metadata": {},
   "outputs": [
    {
     "data": {
      "text/plain": [
       "[<a class=\"link\" href=\"#\">This is link1</a>,\n",
       " <a class=\"link\" href=\"# link2\">This is link2</a>]"
      ]
     },
     "execution_count": 46,
     "metadata": {},
     "output_type": "execute_result"
    }
   ],
   "source": [
    "soup.select('a.link')"
   ]
  },
  {
   "cell_type": "code",
   "execution_count": 47,
   "metadata": {},
   "outputs": [
    {
     "data": {
      "text/plain": [
       "[<a class=\"link\" href=\"#\">This is link1</a>,\n",
       " <a class=\"link\" href=\"# link2\">This is link2</a>]"
      ]
     },
     "execution_count": 47,
     "metadata": {},
     "output_type": "execute_result"
    }
   ],
   "source": [
    "soup.select('body a.link')"
   ]
  },
  {
   "cell_type": "markdown",
   "metadata": {},
   "source": [
    "## 蘋果爬蟲範例"
   ]
  },
  {
   "cell_type": "code",
   "execution_count": 48,
   "metadata": {},
   "outputs": [
    {
     "data": {
      "text/plain": [
       "<Response [200]>"
      ]
     },
     "execution_count": 48,
     "metadata": {},
     "output_type": "execute_result"
    }
   ],
   "source": [
    "import requests\n",
    "res = requests.get('https://tw.appledaily.com/new/realtime')\n",
    "res"
   ]
  },
  {
   "cell_type": "code",
   "execution_count": 50,
   "metadata": {
    "scrolled": false
   },
   "outputs": [],
   "source": [
    "from bs4 import BeautifulSoup\n",
    "soup = BeautifulSoup(res.text, 'lxml')"
   ]
  },
  {
   "cell_type": "code",
   "execution_count": 64,
   "metadata": {},
   "outputs": [
    {
     "name": "stdout",
     "output_type": "stream",
     "text": [
      "13:33 社會 【台中3死車禍】運將抱病扛家計　洗完腎跑...(15036) https://tw.news.appledaily.com/local/realtime/20190124/1506299/\n",
      "13:33 副刊 【全台首家】火車站改建星巴克今開幕　喝咖...(6550) https://tw.lifestyle.appledaily.com/lifestyle/realtime/20190124/1506212/\n",
      "13:33 政治 黃國昌交棒再等等！時代力量延後黨主席選舉... https://tw.news.appledaily.com/politics/realtime/20190124/1506485/\n",
      "13:31 娛樂 金馬新人瑞瑪席丹健康美　自曝曾得暴食症 https://tw.entertainment.appledaily.com/realtime/20190124/1506447/\n",
      "13:31 社會 模擬歹徒持槍搶銀行　場面逼真險被報案 https://tw.news.appledaily.com/local/realtime/20190124/1506419/\n",
      "13:30 社會 【台中3死】酒測值1.39！單親爸爛醉連...(303433) https://tw.news.appledaily.com/local/realtime/20190124/1506244/\n",
      "13:28 政治 禁用中國資通產品　蘇貞昌：資安就是國安絕...(537) https://tw.news.appledaily.com/politics/realtime/20190124/1506461/\n",
      "13:26 社會 砍到菜刀刀柄斷裂才罷手　弒父男遭起訴 https://tw.news.appledaily.com/local/realtime/20190124/1506449/\n",
      "13:25 社會 【台中3死車禍】酒駕單親父獨養2稚女　與...(2245) https://tw.news.appledaily.com/local/realtime/20190124/1506397/\n",
      "13:25 社會 老夫勒斃少妻　竟稱「不知她為何全身沒力」 https://tw.news.appledaily.com/local/realtime/20190124/1506430/\n",
      "13:22 社會 八仙山樂園驚傳墜谷　重機騎士掉150米深...(61901) https://tw.news.appledaily.com/local/realtime/20190124/1506338/\n",
      "13:21 社會 【噴槍奪命】女童解剖母悲慟　PO文「再投...(7523) https://tw.news.appledaily.com/local/realtime/20190124/1506395/\n",
      "13:21 生活 【獨家】直擊震撼畫面！台灣團遊肯亞 斑馬...(6083) https://tw.news.appledaily.com/life/realtime/20190124/1506385/\n",
      "13:21 娛樂 拖5年終成台灣人！瑞莎入手身分證　感動暴...(146) https://tw.entertainment.appledaily.com/realtime/20190124/1506464/\n",
      "13:19 生活 柯粉別怕被消音！　市府證實：僅全面封鎖愛...(4755) https://tw.news.appledaily.com/life/realtime/20190124/1506443/\n",
      "13:18 政治 不滿郝龍斌說官逼民反　段宜康怒：暴力界線...(274) https://tw.news.appledaily.com/politics/realtime/20190124/1506468/\n",
      "13:16 生活 娃娃趴車！乍看想報警　網驚：以為又是虐童(538) https://tw.news.appledaily.com/life/realtime/20190124/1506474/\n",
      "13:16 政治 北市驗票傳憾事！書記官暴瘦8公斤昨過世(1365) https://tw.news.appledaily.com/politics/realtime/20190124/1506471/\n",
      "13:15 3C 【豪華運動休旅TOP5】雙B贏不了這台冠...(82579) https://tw.lifestyle.appledaily.com/gadget/realtime/20190124/1505780/\n",
      "13:15 3C CES發表平價專業繪圖螢幕　明在台開賣(123) https://tw.lifestyle.appledaily.com/gadget/realtime/20190124/1506438/\n",
      "13:15 壹週刊 〈監視器大戰2〉非法破門抓姦 拍到勃起也... https://tw.news.appledaily.com/nextmag/realtime/20190124/1506406/\n",
      "13:14 3C 三星首款開孔新機售價1萬4990元　2月...(5953) https://tw.lifestyle.appledaily.com/gadget/realtime/20190124/1506082/\n",
      "13:13 財經 讓民眾過好年　農曆春節油氣瓦斯凍漲(143) https://tw.finance.appledaily.com/realtime/20190124/1506470/\n",
      "13:12 娛樂 「兒子」當兵驟逝　葉全真台北之約夢碎(1124) https://tw.entertainment.appledaily.com/realtime/20190124/1506450/\n",
      "13:11 社會 恐怖男台北車站隨機砍人　無辜上班族險送命(1305) https://tw.news.appledaily.com/local/realtime/20190124/1506387/\n",
      "13:10 體育 先發唯一左投　陳偉殷輪值坐三望二(4160) https://tw.sports.appledaily.com/realtime/20190124/1506111/\n",
      "13:10 生活 無障礙座位「養蚊子」　客運有條件開放免設(179) https://tw.news.appledaily.com/life/realtime/20190124/1506458/\n",
      "13:08 社會 【最即時專題1】比特犬咬死浪浪遭「沒入」...(115679) https://tw.news.appledaily.com/local/realtime/20190124/1506303/\n",
      "13:08 社會 【最即時專題5】狗界戰神！比特犬流著鬥犬...(813) https://tw.news.appledaily.com/local/realtime/20190124/1506465/\n",
      "13:06 社會 「G奶蜜桃」空運來台　每次7800元！老...(17162) https://tw.news.appledaily.com/local/realtime/20190124/1506427/\n"
     ]
    }
   ],
   "source": [
    "for rec in soup.select('li.rtddt'):\n",
    "    #print(rec)\n",
    "    dt       = rec.select_one('time').text\n",
    "    category = rec.select_one('h2').text\n",
    "    title    = rec.select_one('h1').text\n",
    "    link     = rec.select_one('a').get('href')\n",
    "    print(dt, category, title, link)\n",
    "    #print('=====================================')"
   ]
  },
  {
   "cell_type": "code",
   "execution_count": 65,
   "metadata": {},
   "outputs": [],
   "source": [
    "newsary = []\n",
    "for rec in soup.select('li.rtddt'):\n",
    "    newsdic  = {}\n",
    "    newsdic['dt']       = rec.select_one('time').text\n",
    "    newsdic['category'] = rec.select_one('h2').text\n",
    "    newsdic['title']    = rec.select_one('h1').text\n",
    "    newsdic['link']     = rec.select_one('a').get('href')\n",
    "    newsary.append(newsdic)\n",
    "    "
   ]
  },
  {
   "cell_type": "code",
   "execution_count": 66,
   "metadata": {},
   "outputs": [],
   "source": [
    "import pandas\n",
    "df = pandas.DataFrame(newsary)"
   ]
  },
  {
   "cell_type": "code",
   "execution_count": 67,
   "metadata": {
    "scrolled": true
   },
   "outputs": [
    {
     "data": {
      "text/html": [
       "<div>\n",
       "<style scoped>\n",
       "    .dataframe tbody tr th:only-of-type {\n",
       "        vertical-align: middle;\n",
       "    }\n",
       "\n",
       "    .dataframe tbody tr th {\n",
       "        vertical-align: top;\n",
       "    }\n",
       "\n",
       "    .dataframe thead th {\n",
       "        text-align: right;\n",
       "    }\n",
       "</style>\n",
       "<table border=\"1\" class=\"dataframe\">\n",
       "  <thead>\n",
       "    <tr style=\"text-align: right;\">\n",
       "      <th></th>\n",
       "      <th>category</th>\n",
       "      <th>dt</th>\n",
       "      <th>link</th>\n",
       "      <th>title</th>\n",
       "    </tr>\n",
       "  </thead>\n",
       "  <tbody>\n",
       "    <tr>\n",
       "      <th>0</th>\n",
       "      <td>社會</td>\n",
       "      <td>13:33</td>\n",
       "      <td>https://tw.news.appledaily.com/local/realtime/...</td>\n",
       "      <td>【台中3死車禍】運將抱病扛家計　洗完腎跑...(15036)</td>\n",
       "    </tr>\n",
       "    <tr>\n",
       "      <th>1</th>\n",
       "      <td>副刊</td>\n",
       "      <td>13:33</td>\n",
       "      <td>https://tw.lifestyle.appledaily.com/lifestyle/...</td>\n",
       "      <td>【全台首家】火車站改建星巴克今開幕　喝咖...(6550)</td>\n",
       "    </tr>\n",
       "    <tr>\n",
       "      <th>2</th>\n",
       "      <td>政治</td>\n",
       "      <td>13:33</td>\n",
       "      <td>https://tw.news.appledaily.com/politics/realti...</td>\n",
       "      <td>黃國昌交棒再等等！時代力量延後黨主席選舉...</td>\n",
       "    </tr>\n",
       "    <tr>\n",
       "      <th>3</th>\n",
       "      <td>娛樂</td>\n",
       "      <td>13:31</td>\n",
       "      <td>https://tw.entertainment.appledaily.com/realti...</td>\n",
       "      <td>金馬新人瑞瑪席丹健康美　自曝曾得暴食症</td>\n",
       "    </tr>\n",
       "    <tr>\n",
       "      <th>4</th>\n",
       "      <td>社會</td>\n",
       "      <td>13:31</td>\n",
       "      <td>https://tw.news.appledaily.com/local/realtime/...</td>\n",
       "      <td>模擬歹徒持槍搶銀行　場面逼真險被報案</td>\n",
       "    </tr>\n",
       "    <tr>\n",
       "      <th>5</th>\n",
       "      <td>社會</td>\n",
       "      <td>13:30</td>\n",
       "      <td>https://tw.news.appledaily.com/local/realtime/...</td>\n",
       "      <td>【台中3死】酒測值1.39！單親爸爛醉連...(303433)</td>\n",
       "    </tr>\n",
       "    <tr>\n",
       "      <th>6</th>\n",
       "      <td>政治</td>\n",
       "      <td>13:28</td>\n",
       "      <td>https://tw.news.appledaily.com/politics/realti...</td>\n",
       "      <td>禁用中國資通產品　蘇貞昌：資安就是國安絕...(537)</td>\n",
       "    </tr>\n",
       "    <tr>\n",
       "      <th>7</th>\n",
       "      <td>社會</td>\n",
       "      <td>13:26</td>\n",
       "      <td>https://tw.news.appledaily.com/local/realtime/...</td>\n",
       "      <td>砍到菜刀刀柄斷裂才罷手　弒父男遭起訴</td>\n",
       "    </tr>\n",
       "    <tr>\n",
       "      <th>8</th>\n",
       "      <td>社會</td>\n",
       "      <td>13:25</td>\n",
       "      <td>https://tw.news.appledaily.com/local/realtime/...</td>\n",
       "      <td>【台中3死車禍】酒駕單親父獨養2稚女　與...(2245)</td>\n",
       "    </tr>\n",
       "    <tr>\n",
       "      <th>9</th>\n",
       "      <td>社會</td>\n",
       "      <td>13:25</td>\n",
       "      <td>https://tw.news.appledaily.com/local/realtime/...</td>\n",
       "      <td>老夫勒斃少妻　竟稱「不知她為何全身沒力」</td>\n",
       "    </tr>\n",
       "    <tr>\n",
       "      <th>10</th>\n",
       "      <td>社會</td>\n",
       "      <td>13:22</td>\n",
       "      <td>https://tw.news.appledaily.com/local/realtime/...</td>\n",
       "      <td>八仙山樂園驚傳墜谷　重機騎士掉150米深...(61901)</td>\n",
       "    </tr>\n",
       "    <tr>\n",
       "      <th>11</th>\n",
       "      <td>社會</td>\n",
       "      <td>13:21</td>\n",
       "      <td>https://tw.news.appledaily.com/local/realtime/...</td>\n",
       "      <td>【噴槍奪命】女童解剖母悲慟　PO文「再投...(7523)</td>\n",
       "    </tr>\n",
       "    <tr>\n",
       "      <th>12</th>\n",
       "      <td>生活</td>\n",
       "      <td>13:21</td>\n",
       "      <td>https://tw.news.appledaily.com/life/realtime/2...</td>\n",
       "      <td>【獨家】直擊震撼畫面！台灣團遊肯亞 斑馬...(6083)</td>\n",
       "    </tr>\n",
       "    <tr>\n",
       "      <th>13</th>\n",
       "      <td>娛樂</td>\n",
       "      <td>13:21</td>\n",
       "      <td>https://tw.entertainment.appledaily.com/realti...</td>\n",
       "      <td>拖5年終成台灣人！瑞莎入手身分證　感動暴...(146)</td>\n",
       "    </tr>\n",
       "    <tr>\n",
       "      <th>14</th>\n",
       "      <td>生活</td>\n",
       "      <td>13:19</td>\n",
       "      <td>https://tw.news.appledaily.com/life/realtime/2...</td>\n",
       "      <td>柯粉別怕被消音！　市府證實：僅全面封鎖愛...(4755)</td>\n",
       "    </tr>\n",
       "    <tr>\n",
       "      <th>15</th>\n",
       "      <td>政治</td>\n",
       "      <td>13:18</td>\n",
       "      <td>https://tw.news.appledaily.com/politics/realti...</td>\n",
       "      <td>不滿郝龍斌說官逼民反　段宜康怒：暴力界線...(274)</td>\n",
       "    </tr>\n",
       "    <tr>\n",
       "      <th>16</th>\n",
       "      <td>生活</td>\n",
       "      <td>13:16</td>\n",
       "      <td>https://tw.news.appledaily.com/life/realtime/2...</td>\n",
       "      <td>娃娃趴車！乍看想報警　網驚：以為又是虐童(538)</td>\n",
       "    </tr>\n",
       "    <tr>\n",
       "      <th>17</th>\n",
       "      <td>政治</td>\n",
       "      <td>13:16</td>\n",
       "      <td>https://tw.news.appledaily.com/politics/realti...</td>\n",
       "      <td>北市驗票傳憾事！書記官暴瘦8公斤昨過世(1365)</td>\n",
       "    </tr>\n",
       "    <tr>\n",
       "      <th>18</th>\n",
       "      <td>3C</td>\n",
       "      <td>13:15</td>\n",
       "      <td>https://tw.lifestyle.appledaily.com/gadget/rea...</td>\n",
       "      <td>【豪華運動休旅TOP5】雙B贏不了這台冠...(82579)</td>\n",
       "    </tr>\n",
       "    <tr>\n",
       "      <th>19</th>\n",
       "      <td>3C</td>\n",
       "      <td>13:15</td>\n",
       "      <td>https://tw.lifestyle.appledaily.com/gadget/rea...</td>\n",
       "      <td>CES發表平價專業繪圖螢幕　明在台開賣(123)</td>\n",
       "    </tr>\n",
       "    <tr>\n",
       "      <th>20</th>\n",
       "      <td>壹週刊</td>\n",
       "      <td>13:15</td>\n",
       "      <td>https://tw.news.appledaily.com/nextmag/realtim...</td>\n",
       "      <td>〈監視器大戰2〉非法破門抓姦 拍到勃起也...</td>\n",
       "    </tr>\n",
       "    <tr>\n",
       "      <th>21</th>\n",
       "      <td>3C</td>\n",
       "      <td>13:14</td>\n",
       "      <td>https://tw.lifestyle.appledaily.com/gadget/rea...</td>\n",
       "      <td>三星首款開孔新機售價1萬4990元　2月...(5953)</td>\n",
       "    </tr>\n",
       "    <tr>\n",
       "      <th>22</th>\n",
       "      <td>財經</td>\n",
       "      <td>13:13</td>\n",
       "      <td>https://tw.finance.appledaily.com/realtime/201...</td>\n",
       "      <td>讓民眾過好年　農曆春節油氣瓦斯凍漲(143)</td>\n",
       "    </tr>\n",
       "    <tr>\n",
       "      <th>23</th>\n",
       "      <td>娛樂</td>\n",
       "      <td>13:12</td>\n",
       "      <td>https://tw.entertainment.appledaily.com/realti...</td>\n",
       "      <td>「兒子」當兵驟逝　葉全真台北之約夢碎(1124)</td>\n",
       "    </tr>\n",
       "    <tr>\n",
       "      <th>24</th>\n",
       "      <td>社會</td>\n",
       "      <td>13:11</td>\n",
       "      <td>https://tw.news.appledaily.com/local/realtime/...</td>\n",
       "      <td>恐怖男台北車站隨機砍人　無辜上班族險送命(1305)</td>\n",
       "    </tr>\n",
       "    <tr>\n",
       "      <th>25</th>\n",
       "      <td>體育</td>\n",
       "      <td>13:10</td>\n",
       "      <td>https://tw.sports.appledaily.com/realtime/2019...</td>\n",
       "      <td>先發唯一左投　陳偉殷輪值坐三望二(4160)</td>\n",
       "    </tr>\n",
       "    <tr>\n",
       "      <th>26</th>\n",
       "      <td>生活</td>\n",
       "      <td>13:10</td>\n",
       "      <td>https://tw.news.appledaily.com/life/realtime/2...</td>\n",
       "      <td>無障礙座位「養蚊子」　客運有條件開放免設(179)</td>\n",
       "    </tr>\n",
       "    <tr>\n",
       "      <th>27</th>\n",
       "      <td>社會</td>\n",
       "      <td>13:08</td>\n",
       "      <td>https://tw.news.appledaily.com/local/realtime/...</td>\n",
       "      <td>【最即時專題1】比特犬咬死浪浪遭「沒入」...(115679)</td>\n",
       "    </tr>\n",
       "    <tr>\n",
       "      <th>28</th>\n",
       "      <td>社會</td>\n",
       "      <td>13:08</td>\n",
       "      <td>https://tw.news.appledaily.com/local/realtime/...</td>\n",
       "      <td>【最即時專題5】狗界戰神！比特犬流著鬥犬...(813)</td>\n",
       "    </tr>\n",
       "    <tr>\n",
       "      <th>29</th>\n",
       "      <td>社會</td>\n",
       "      <td>13:06</td>\n",
       "      <td>https://tw.news.appledaily.com/local/realtime/...</td>\n",
       "      <td>「G奶蜜桃」空運來台　每次7800元！老...(17162)</td>\n",
       "    </tr>\n",
       "  </tbody>\n",
       "</table>\n",
       "</div>"
      ],
      "text/plain": [
       "   category     dt                                               link  \\\n",
       "0        社會  13:33  https://tw.news.appledaily.com/local/realtime/...   \n",
       "1        副刊  13:33  https://tw.lifestyle.appledaily.com/lifestyle/...   \n",
       "2        政治  13:33  https://tw.news.appledaily.com/politics/realti...   \n",
       "3        娛樂  13:31  https://tw.entertainment.appledaily.com/realti...   \n",
       "4        社會  13:31  https://tw.news.appledaily.com/local/realtime/...   \n",
       "5        社會  13:30  https://tw.news.appledaily.com/local/realtime/...   \n",
       "6        政治  13:28  https://tw.news.appledaily.com/politics/realti...   \n",
       "7        社會  13:26  https://tw.news.appledaily.com/local/realtime/...   \n",
       "8        社會  13:25  https://tw.news.appledaily.com/local/realtime/...   \n",
       "9        社會  13:25  https://tw.news.appledaily.com/local/realtime/...   \n",
       "10       社會  13:22  https://tw.news.appledaily.com/local/realtime/...   \n",
       "11       社會  13:21  https://tw.news.appledaily.com/local/realtime/...   \n",
       "12       生活  13:21  https://tw.news.appledaily.com/life/realtime/2...   \n",
       "13       娛樂  13:21  https://tw.entertainment.appledaily.com/realti...   \n",
       "14       生活  13:19  https://tw.news.appledaily.com/life/realtime/2...   \n",
       "15       政治  13:18  https://tw.news.appledaily.com/politics/realti...   \n",
       "16       生活  13:16  https://tw.news.appledaily.com/life/realtime/2...   \n",
       "17       政治  13:16  https://tw.news.appledaily.com/politics/realti...   \n",
       "18       3C  13:15  https://tw.lifestyle.appledaily.com/gadget/rea...   \n",
       "19       3C  13:15  https://tw.lifestyle.appledaily.com/gadget/rea...   \n",
       "20      壹週刊  13:15  https://tw.news.appledaily.com/nextmag/realtim...   \n",
       "21       3C  13:14  https://tw.lifestyle.appledaily.com/gadget/rea...   \n",
       "22       財經  13:13  https://tw.finance.appledaily.com/realtime/201...   \n",
       "23       娛樂  13:12  https://tw.entertainment.appledaily.com/realti...   \n",
       "24       社會  13:11  https://tw.news.appledaily.com/local/realtime/...   \n",
       "25       體育  13:10  https://tw.sports.appledaily.com/realtime/2019...   \n",
       "26       生活  13:10  https://tw.news.appledaily.com/life/realtime/2...   \n",
       "27       社會  13:08  https://tw.news.appledaily.com/local/realtime/...   \n",
       "28       社會  13:08  https://tw.news.appledaily.com/local/realtime/...   \n",
       "29       社會  13:06  https://tw.news.appledaily.com/local/realtime/...   \n",
       "\n",
       "                              title  \n",
       "0    【台中3死車禍】運將抱病扛家計　洗完腎跑...(15036)  \n",
       "1     【全台首家】火車站改建星巴克今開幕　喝咖...(6550)  \n",
       "2           黃國昌交棒再等等！時代力量延後黨主席選舉...  \n",
       "3               金馬新人瑞瑪席丹健康美　自曝曾得暴食症  \n",
       "4                模擬歹徒持槍搶銀行　場面逼真險被報案  \n",
       "5   【台中3死】酒測值1.39！單親爸爛醉連...(303433)  \n",
       "6      禁用中國資通產品　蘇貞昌：資安就是國安絕...(537)  \n",
       "7                砍到菜刀刀柄斷裂才罷手　弒父男遭起訴  \n",
       "8     【台中3死車禍】酒駕單親父獨養2稚女　與...(2245)  \n",
       "9              老夫勒斃少妻　竟稱「不知她為何全身沒力」  \n",
       "10   八仙山樂園驚傳墜谷　重機騎士掉150米深...(61901)  \n",
       "11    【噴槍奪命】女童解剖母悲慟　PO文「再投...(7523)  \n",
       "12    【獨家】直擊震撼畫面！台灣團遊肯亞 斑馬...(6083)  \n",
       "13     拖5年終成台灣人！瑞莎入手身分證　感動暴...(146)  \n",
       "14    柯粉別怕被消音！　市府證實：僅全面封鎖愛...(4755)  \n",
       "15     不滿郝龍斌說官逼民反　段宜康怒：暴力界線...(274)  \n",
       "16        娃娃趴車！乍看想報警　網驚：以為又是虐童(538)  \n",
       "17        北市驗票傳憾事！書記官暴瘦8公斤昨過世(1365)  \n",
       "18   【豪華運動休旅TOP5】雙B贏不了這台冠...(82579)  \n",
       "19         CES發表平價專業繪圖螢幕　明在台開賣(123)  \n",
       "20          〈監視器大戰2〉非法破門抓姦 拍到勃起也...  \n",
       "21    三星首款開孔新機售價1萬4990元　2月...(5953)  \n",
       "22           讓民眾過好年　農曆春節油氣瓦斯凍漲(143)  \n",
       "23         「兒子」當兵驟逝　葉全真台北之約夢碎(1124)  \n",
       "24       恐怖男台北車站隨機砍人　無辜上班族險送命(1305)  \n",
       "25           先發唯一左投　陳偉殷輪值坐三望二(4160)  \n",
       "26        無障礙座位「養蚊子」　客運有條件開放免設(179)  \n",
       "27  【最即時專題1】比特犬咬死浪浪遭「沒入」...(115679)  \n",
       "28     【最即時專題5】狗界戰神！比特犬流著鬥犬...(813)  \n",
       "29   「G奶蜜桃」空運來台　每次7800元！老...(17162)  "
      ]
     },
     "execution_count": 67,
     "metadata": {},
     "output_type": "execute_result"
    }
   ],
   "source": [
    "df"
   ]
  },
  {
   "cell_type": "code",
   "execution_count": 69,
   "metadata": {},
   "outputs": [
    {
     "data": {
      "text/plain": [
       "category\n",
       "3C      3\n",
       "副刊      1\n",
       "壹週刊     1\n",
       "娛樂      3\n",
       "政治      4\n",
       "生活      4\n",
       "社會     12\n",
       "財經      1\n",
       "體育      1\n",
       "Name: title, dtype: int64"
      ]
     },
     "execution_count": 69,
     "metadata": {},
     "output_type": "execute_result"
    }
   ],
   "source": [
    "# SELECT count(title) FROM df GROUP BY category\n",
    "df.groupby('category')['title'].count()"
   ]
  },
  {
   "cell_type": "code",
   "execution_count": 70,
   "metadata": {},
   "outputs": [],
   "source": [
    "df.to_excel('appledaily.xlsx')"
   ]
  },
  {
   "cell_type": "code",
   "execution_count": 73,
   "metadata": {},
   "outputs": [],
   "source": [
    "#df.to"
   ]
  },
  {
   "cell_type": "code",
   "execution_count": 71,
   "metadata": {},
   "outputs": [
    {
     "data": {
      "text/html": [
       "<div>\n",
       "<style scoped>\n",
       "    .dataframe tbody tr th:only-of-type {\n",
       "        vertical-align: middle;\n",
       "    }\n",
       "\n",
       "    .dataframe tbody tr th {\n",
       "        vertical-align: top;\n",
       "    }\n",
       "\n",
       "    .dataframe thead th {\n",
       "        text-align: right;\n",
       "    }\n",
       "</style>\n",
       "<table border=\"1\" class=\"dataframe\">\n",
       "  <thead>\n",
       "    <tr style=\"text-align: right;\">\n",
       "      <th></th>\n",
       "      <th>category</th>\n",
       "      <th>dt</th>\n",
       "      <th>link</th>\n",
       "      <th>title</th>\n",
       "    </tr>\n",
       "  </thead>\n",
       "  <tbody>\n",
       "    <tr>\n",
       "      <th>0</th>\n",
       "      <td>社會</td>\n",
       "      <td>13:33</td>\n",
       "      <td>https://tw.news.appledaily.com/local/realtime/...</td>\n",
       "      <td>【台中3死車禍】運將抱病扛家計　洗完腎跑...(15036)</td>\n",
       "    </tr>\n",
       "    <tr>\n",
       "      <th>1</th>\n",
       "      <td>副刊</td>\n",
       "      <td>13:33</td>\n",
       "      <td>https://tw.lifestyle.appledaily.com/lifestyle/...</td>\n",
       "      <td>【全台首家】火車站改建星巴克今開幕　喝咖...(6550)</td>\n",
       "    </tr>\n",
       "    <tr>\n",
       "      <th>2</th>\n",
       "      <td>政治</td>\n",
       "      <td>13:33</td>\n",
       "      <td>https://tw.news.appledaily.com/politics/realti...</td>\n",
       "      <td>黃國昌交棒再等等！時代力量延後黨主席選舉...</td>\n",
       "    </tr>\n",
       "    <tr>\n",
       "      <th>3</th>\n",
       "      <td>娛樂</td>\n",
       "      <td>13:31</td>\n",
       "      <td>https://tw.entertainment.appledaily.com/realti...</td>\n",
       "      <td>金馬新人瑞瑪席丹健康美　自曝曾得暴食症</td>\n",
       "    </tr>\n",
       "    <tr>\n",
       "      <th>4</th>\n",
       "      <td>社會</td>\n",
       "      <td>13:31</td>\n",
       "      <td>https://tw.news.appledaily.com/local/realtime/...</td>\n",
       "      <td>模擬歹徒持槍搶銀行　場面逼真險被報案</td>\n",
       "    </tr>\n",
       "  </tbody>\n",
       "</table>\n",
       "</div>"
      ],
      "text/plain": [
       "  category     dt                                               link  \\\n",
       "0       社會  13:33  https://tw.news.appledaily.com/local/realtime/...   \n",
       "1       副刊  13:33  https://tw.lifestyle.appledaily.com/lifestyle/...   \n",
       "2       政治  13:33  https://tw.news.appledaily.com/politics/realti...   \n",
       "3       娛樂  13:31  https://tw.entertainment.appledaily.com/realti...   \n",
       "4       社會  13:31  https://tw.news.appledaily.com/local/realtime/...   \n",
       "\n",
       "                            title  \n",
       "0  【台中3死車禍】運將抱病扛家計　洗完腎跑...(15036)  \n",
       "1   【全台首家】火車站改建星巴克今開幕　喝咖...(6550)  \n",
       "2         黃國昌交棒再等等！時代力量延後黨主席選舉...  \n",
       "3             金馬新人瑞瑪席丹健康美　自曝曾得暴食症  \n",
       "4              模擬歹徒持槍搶銀行　場面逼真險被報案  "
      ]
     },
     "execution_count": 71,
     "metadata": {},
     "output_type": "execute_result"
    }
   ],
   "source": [
    "import pandas\n",
    "df2 = pandas.read_excel('appledaily.xlsx')\n",
    "df2.head()"
   ]
  },
  {
   "cell_type": "markdown",
   "metadata": {},
   "source": [
    "## Digitimes"
   ]
  },
  {
   "cell_type": "code",
   "execution_count": 75,
   "metadata": {},
   "outputs": [],
   "source": [
    "import requests\n",
    "url = 'https://www.digitimes.com.tw/tech/dt/newslist_ajax.asp'\n",
    "payload = {\n",
    "'cat1': '0'\n",
    "}\n",
    "res = requests.post(url, data = payload)\n",
    "#res.text"
   ]
  },
  {
   "cell_type": "code",
   "execution_count": 84,
   "metadata": {
    "scrolled": false
   },
   "outputs": [
    {
     "name": "stdout",
     "output_type": "stream",
     "text": [
      "產業  蘋果挖角三星SDI前高層出任全球電池開發主管 https://www.digitimes.com.tw/tech/dt/n/shwnws.asp?cnlid=1&cat=90&id=0000552621_3YW5W12V36QQX2065LOQN 11:51\n",
      "==========================\n",
      "產業  CNBC：華為持續受抵制　陸資恐掀矽谷撤資潮 https://www.digitimes.com.tw/tech/dt/n/shwnws.asp?cnlid=1&cat=70&id=0000552627_5SA5UR5S3TNH6X6OGBEX3 11:51\n",
      "==========================\n",
      "產業  專注Model 3銷售　Tesla大砍Model S、X產線員工 https://www.digitimes.com.tw/tech/dt/n/shwnws.asp?cnlid=1&cat=90&id=0000552618_HYC58ZDE2C5LS67SJVLXB 11:50\n",
      "==========================\n",
      "產業  Galaxy S10售價和配色提前曝光　傳6GB/128GB版本售價破千美元 https://www.digitimes.com.tw/tech/dt/n/shwnws.asp?cnlid=1&cat=70&id=0000552608_A927Y5WSLAWNVC94ZX0QN 11:50\n",
      "==========================\n",
      "產業  半導體景氣再發警訊　SK海力士4Q18營業利益季減32% https://www.digitimes.com.tw/tech/dt/n/shwnws.asp?cnlid=1&cat=40&id=0000552604_V1F7XY7RLOP6DE59SYQ3Z 11:35\n",
      "==========================\n",
      "產業  德儀第4季獲利優於預期　賽靈思受惠5G商機　上季營收亮眼 https://www.digitimes.com.tw/tech/dt/n/shwnws.asp?cnlid=1&cat=70&id=0000552603_OKV5APFP13TSO82KCUARZ 11:35\n",
      "==========================\n",
      "產業  客戶推遲訂單　ASML看淡第1季營收 https://www.digitimes.com.tw/tech/dt/n/shwnws.asp?cnlid=1&cat=40&id=0000552602_ECN5UJOP1P752C15VJBC5 11:34\n",
      "==========================\n",
      "產業  看好5G商機　日立化成在台蓋新廠 https://www.digitimes.com.tw/tech/dt/n/shwnws.asp?cnlid=1&cat=40&id=0000552590_LEK4U7KCLTRLEOLDKCHBW 11:10\n",
      "==========================\n",
      "產業  借重新創Cognata　達梭系統自駕車解決方案邁大步 https://www.digitimes.com.tw/tech/dt/n/shwnws.asp?cnlid=1&cat=90&id=0000552566_JCH6PSAS5TO2977GA5VLT 11:09\n",
      "==========================\n",
      "商情  十銓產業2019超優特惠搶先開跑 https://www.digitimes.com.tw/tech/dt/n/shwnws.asp?cnlid=13&id=0000552609_QNR7APHCLK5LUWL3C81R9 10:07\n",
      "==========================\n",
      "產業  京東方可撓式OLED良率大躍進　2019年底成本進逼三星 https://www.digitimes.com.tw/tech/dt/n/shwnws.asp?cnlid=1&cat=30&id=0000552553_0ME4QHYH6GIC652DCRTIT 03:00\n",
      "==========================\n",
      "產業  任天堂Switch遊戲機熱潮過　今年訂單急縮25~30% https://www.digitimes.com.tw/tech/dt/n/shwnws.asp?cnlid=1&cat=20&id=0000552560_9ML6J4M659WM791YIMZ2Q 03:00\n",
      "==========================\n",
      "區域  告別平成年號　經團連廠商聯誼會角色亦將謝幕 https://www.digitimes.com.tw/tech/dt/n/shwnws.asp?cnlid=9&cat=310&id=0000552071_TN3LJKBQ8T5E300WB1DOR 02:54\n",
      "==========================\n",
      "產業  Galaxy S10有什麼新變革？　零組件已走漏風聲 https://www.digitimes.com.tw/tech/dt/n/shwnws.asp?cnlid=1&cat=70&id=0000548748_ZNJ8MULC3ONSC69XR2CO2 02:52\n",
      "==========================\n",
      "商情  威聯通推出24-bay機架式Ryzen NAS https://www.digitimes.com.tw/tech/dt/n/shwnws.asp?cnlid=13&id=0000551240_A0F1ZMOQ5B2451L667DV8 02:51\n",
      "==========================\n",
      "產業  汽車產業人才缺口越補越大洞　跨職能工程師最搶手 https://www.digitimes.com.tw/tech/dt/n/shwnws.asp?cnlid=1&cat=90&id=0000552292_30J3E1I782GDN53851Y28 02:50\n",
      "==========================\n",
      "區域  趨勢圖示：2018年日本貿易輸出統計 https://www.digitimes.com.tw/tech/dt/n/shwnws.asp?cnlid=9&cat=310&id=0000551292_TC835UTC8EN3TD3KVZL94 02:49\n",
      "==========================\n",
      "產業  T-Mobile與Sprint合併好處多　4G LTE無線網路建構更完善、全美5G布建腳步更快 https://www.digitimes.com.tw/tech/dt/n/shwnws.asp?cnlid=1&cat=50&id=0000550249_7JS1A7QW562S6B83JNT3E 02:48\n",
      "==========================\n",
      "產業  夏普、Sony 8K電視最吸睛　Panasonic只計劃推出8K投影機 https://www.digitimes.com.tw/tech/dt/n/shwnws.asp?cnlid=1&cat=30&id=0000552026_F091VLM31L54H271VBI4I 02:47\n",
      "==========================\n",
      "產業  二線晶圓代工降價求售　IC設計投石問路 https://www.digitimes.com.tw/tech/dt/n/shwnws.asp?cnlid=1&cat=40&id=0000552550_B4R6MWXT43QQT61BSEGUE 02:46\n",
      "==========================\n",
      "產業  晶電轉型搶進5G商機　結盟環宇入股晶成半導體 https://www.digitimes.com.tw/tech/dt/n/shwnws.asp?cnlid=1&cat=40&id=0000552562_X9O6SYSK5VO1T73KV0XS5 02:46\n",
      "==========================\n",
      "產業  5G、折疊手機蓄勢待發　為2019年手機市場注入新活力 https://www.digitimes.com.tw/tech/dt/n/shwnws.asp?cnlid=1&cat=70&id=0000551098_D74LJFB9L5WAC37W5HTNK 02:46\n",
      "==========================\n",
      "產業  DIGITIMES Research專欄：展會觀察：2019年CES自駕車著重物流應用　人車互動為車廠行銷重點 https://www.digitimes.com.tw/tech/dt/n/shwnws.asp?cnlid=1&cat=90&id=0000552429_S0J5PLRR1PSRDFLBE74WP 02:45\n",
      "==========================\n",
      "產業  AI商機爆發推遲　NVIDIA錯失先發情勢　超微見縫插針、英特爾GPU明年來襲 https://www.digitimes.com.tw/tech/dt/n/shwnws.asp?cnlid=1&cat=10&id=0000552567_UPX6BLG55MAVG7830S797 02:43\n",
      "==========================\n",
      "產業  5G通訊元件潛力高、VCSEL重成本效益　環宇鞏固6吋三五族晶圓代工產能 https://www.digitimes.com.tw/tech/dt/n/shwnws.asp?cnlid=1&cat=40&id=0000552557_WAF61BHK4ICDAK8SA043Q 02:42\n",
      "==========================\n",
      "產業  讓相片吃一口彩虹　AI讓黑白影音找回顏色 https://www.digitimes.com.tw/tech/dt/n/shwnws.asp?cnlid=1&cat=50&id=0000552436_4JV35J6H4SHXO65OHUGRR 02:42\n",
      "==========================\n",
      "產業  大陸駐加拿大外交官警告　勿阻擋華為加國5G興建 https://www.digitimes.com.tw/tech/dt/n/shwnws.asp?cnlid=1&cat=70&id=0000552236_SPC1DHUI4DDZTA5AIURGH 02:42\n",
      "==========================\n",
      "產業  折疊螢幕手機硬體走得太快　OS跟得上App可不行 https://www.digitimes.com.tw/tech/dt/n/shwnws.asp?cnlid=1&cat=70&id=0000552274_1101JF8L8PCH9S39IXQUR 02:40\n",
      "==========================\n",
      "產業  頂級車種需求受景氣影響低　高階車用板市場仍有基本盤 https://www.digitimes.com.tw/tech/dt/n/shwnws.asp?cnlid=1&cat=40&id=0000552569_H246JTS35II48VL9NCK53 02:39\n",
      "==========================\n",
      "產業  豐田行動革命　旗下廠商紛展構想 https://www.digitimes.com.tw/tech/dt/n/shwnws.asp?cnlid=1&cat=90&id=0000552345_OOP2WDOS5QLYD44HDWBR6 02:38\n",
      "==========================\n",
      "產業  陸太陽能補貼或設上限　台灣傳FIT補助降3%　VPC增3% https://www.digitimes.com.tw/tech/dt/n/shwnws.asp?cnlid=1&cat=90&id=0000552543_AC16DB4H30P3AO4PGDYK7 02:37\n",
      "==========================\n",
      "產業  夏普重回CES　以8K家電打開北美市場 https://www.digitimes.com.tw/tech/dt/n/shwnws.asp?cnlid=1&cat=30&id=0000551749_VOZ69MV958I2AE8KGRDJ3 02:34\n",
      "==========================\n",
      "產業  AI創造虛擬偶像　角色設計將能打破套路 https://www.digitimes.com.tw/tech/dt/n/shwnws.asp?cnlid=1&cat=50&id=0000551994_H4DLJ0NT8OOUY9533S5FD 02:34\n",
      "==========================\n",
      "產業  槓上Facebook、Twitter　俄控違反資料儲存規範 https://www.digitimes.com.tw/tech/dt/n/shwnws.asp?cnlid=1&cat=70&id=0000552501_GEQ4CSZH1LTXTC0I5GPPY 02:34\n",
      "==========================\n",
      "產業  8K電視聲勢浩大價更高　夢幻電視何時入廳堂 https://www.digitimes.com.tw/tech/dt/n/shwnws.asp?cnlid=1&cat=30&id=0000551958_WV9L6AWZ4YG65S9BPAB01 02:33\n",
      "==========================\n",
      "產業  釀酒業革命　引進AI與IoT承先啟後 https://www.digitimes.com.tw/tech/dt/n/shwnws.asp?cnlid=1&cat=50&id=0000552070_PT11RPWU6DZXJD1YFXRMC 02:33\n",
      "==========================\n",
      "產業  車用半導體佔整車成本上看10%　感測器、功率元件、車聯網晶片成封測廠火力重心 https://www.digitimes.com.tw/tech/dt/n/shwnws.asp?cnlid=1&cat=&id=0000551384_7LK4PSZ67JAGYU5S6FS3Y 02:33\n",
      "==========================\n",
      "產業  羅姆攜手意法半導體　搶下車用無線充電灘頭堡 https://www.digitimes.com.tw/tech/dt/n/shwnws.asp?cnlid=1&cat=40&id=0000552555_5S74JBIO6IN7PB4RGLVMI 02:32\n",
      "==========================\n",
      "產業  瑞薩工業AI領域新事業　目標年營收1.8億美元 https://www.digitimes.com.tw/tech/dt/n/shwnws.asp?cnlid=1&cat=50&id=0000552538_A126FQPC23LPP49DXK20T 02:32\n",
      "==========================\n",
      "產業  大陸O2O業者迎接轉虧為盈挑戰　2019成關鍵 https://www.digitimes.com.tw/tech/dt/n/shwnws.asp?cnlid=1&cat=310&id=0000551438_TJL5OW5A26XZF39CEHEDI 02:31\n",
      "==========================\n"
     ]
    }
   ],
   "source": [
    "from bs4 import BeautifulSoup\n",
    "domain = 'https://www.digitimes.com.tw'\n",
    "soup = BeautifulSoup(res.text, 'lxml')\n",
    "for rec in soup.select('tr.trbox'):\n",
    "    tds = rec.select('td')\n",
    "    category = tds[0].text\n",
    "    title    = tds[1].text\n",
    "    link     = domain + tds[1].select_one('a').get('href')\n",
    "    dt       = tds[2].text\n",
    "    print(category, title, link, dt)\n",
    "    print('==========================')"
   ]
  },
  {
   "cell_type": "code",
   "execution_count": 87,
   "metadata": {},
   "outputs": [],
   "source": [
    "import requests\n",
    "res = requests.get('https://www.digitimes.com.tw/tech/rss/xml/xmlrss_10_0.xml')\n",
    "res.encoding = 'big5'\n",
    "#res.text"
   ]
  },
  {
   "cell_type": "markdown",
   "metadata": {},
   "source": [
    "## 抓取單篇文章"
   ]
  },
  {
   "cell_type": "code",
   "execution_count": 94,
   "metadata": {},
   "outputs": [],
   "source": [
    "import requests\n",
    "url = 'https://www.digitimes.com.tw/tech/dt/n/shwnws.asp?cnlid=13&id=0000552499_BRL5465W8YHU9WLV9EJ3I'\n",
    "res = requests.get(url)\n",
    "#res.text"
   ]
  },
  {
   "cell_type": "code",
   "execution_count": 105,
   "metadata": {},
   "outputs": [],
   "source": [
    "#res.text"
   ]
  },
  {
   "cell_type": "code",
   "execution_count": 97,
   "metadata": {},
   "outputs": [
    {
     "data": {
      "text/plain": [
       "'戴爾服務全球馳名 戴爾推出情人節限定優惠'"
      ]
     },
     "execution_count": 97,
     "metadata": {},
     "output_type": "execute_result"
    }
   ],
   "source": [
    "from bs4 import BeautifulSoup\n",
    "soup = BeautifulSoup(res.text, 'lxml')\n",
    "soup.select_one('.article_header').text"
   ]
  },
  {
   "cell_type": "code",
   "execution_count": 99,
   "metadata": {},
   "outputs": [
    {
     "data": {
      "text/plain": [
       "'陳毅斌'"
      ]
     },
     "execution_count": 99,
     "metadata": {},
     "output_type": "execute_result"
    }
   ],
   "source": [
    "soup.select_one('.p-t-15 span').text"
   ]
  },
  {
   "cell_type": "code",
   "execution_count": 100,
   "metadata": {},
   "outputs": [
    {
     "data": {
      "text/plain": [
       "'2019-01-24'"
      ]
     },
     "execution_count": 100,
     "metadata": {},
     "output_type": "execute_result"
    }
   ],
   "source": [
    "soup.select_one('time').text"
   ]
  },
  {
   "cell_type": "code",
   "execution_count": 103,
   "metadata": {},
   "outputs": [
    {
     "data": {
      "text/plain": [
       "'\\r\\n「陪伴是最長情的告白」，戴爾情人陪你度過冷冽寒冬，即日起至2019年2月24日止，戴爾推出「我的戴爾情人 保護你是我的責任」線上情人節買贈活動。 針對旗下Inspiron 5000、Inspiron 7000消費筆記型電腦，XPS頂級筆記型電腦系列、Vostro商用筆記型電腦系列、Dell G遊戲筆記型電腦系列以及Alienware外星人電競系列，推出限定機型買就送限定台灣地區延長保固一年，讓你在寒冬中也能擁有來自戴爾暖暖的保護。 凡於2月28日前完成登錄，更有機會抽中Tiffany & Co. 愛心墜飾 925純銀項鍊(價值NT$26,000)。 戴爾家用電腦專屬的支援服務 全球馳名 戴爾持續致力於提供高品質的售後服務。在活動期間購買指定機種，消費者不僅可以免費享有為期一年的基本硬體服務的標準保固，還有「次營業日到府服務」，消費者可指定地點讓工程師前往維修。而戴爾在給予完美呵護的同時，更尊重個人隱私與私人空間，提供保留硬碟服務，讓你在硬碟故障時，可以自行決定銷毀資料及處置硬碟的方式，免去因協力廠商管理不當而可能導致的風險，安心保存所有資料。 此外，消費者還可選購Premium Support 或是Premium Support Plus，無論是不慎掉落，或是液體潑灑，戴爾都能提供24小時全年無休的及時支援，只要透過網路或電話，即可與專家軟硬體支援直接取得聯絡，提供如情人般全天候的保護。 而讓戴爾首開個人電腦產業提供自動化主動式與預測支援服務先河的SupportAssist技術，可確保電腦隨時保持最佳運作狀態。Premium Support 與Premium Support Plus搭配的家用電腦專屬Dell SupportAssist技術讓我們的專責專家團隊得以迅速解決問題，讓消費者儘快恢復正常作業。如無法遠端解決問題，戴爾就會派遣戴爾技師親自前往指定地點處理。\\r\\n\\r\\n\\t\\t\\t\\t'"
      ]
     },
     "execution_count": 103,
     "metadata": {},
     "output_type": "execute_result"
    }
   ],
   "source": [
    "contents = [] \n",
    "for p in soup.select('.main_p'):\n",
    "    contents.append(p.text)\n",
    "' '.join(contents)"
   ]
  },
  {
   "cell_type": "code",
   "execution_count": 104,
   "metadata": {},
   "outputs": [
    {
     "data": {
      "text/plain": [
       "'\\r\\n「陪伴是最長情的告白」，戴爾情人陪你度過冷冽寒冬，即日起至2019年2月24日止，戴爾推出「我的戴爾情人 保護你是我的責任」線上情人節買贈活動。 針對旗下Inspiron 5000、Inspiron 7000消費筆記型電腦，XPS頂級筆記型電腦系列、Vostro商用筆記型電腦系列、Dell G遊戲筆記型電腦系列以及Alienware外星人電競系列，推出限定機型買就送限定台灣地區延長保固一年，讓你在寒冬中也能擁有來自戴爾暖暖的保護。 凡於2月28日前完成登錄，更有機會抽中Tiffany & Co. 愛心墜飾 925純銀項鍊(價值NT$26,000)。 戴爾家用電腦專屬的支援服務 全球馳名 戴爾持續致力於提供高品質的售後服務。在活動期間購買指定機種，消費者不僅可以免費享有為期一年的基本硬體服務的標準保固，還有「次營業日到府服務」，消費者可指定地點讓工程師前往維修。而戴爾在給予完美呵護的同時，更尊重個人隱私與私人空間，提供保留硬碟服務，讓你在硬碟故障時，可以自行決定銷毀資料及處置硬碟的方式，免去因協力廠商管理不當而可能導致的風險，安心保存所有資料。 此外，消費者還可選購Premium Support 或是Premium Support Plus，無論是不慎掉落，或是液體潑灑，戴爾都能提供24小時全年無休的及時支援，只要透過網路或電話，即可與專家軟硬體支援直接取得聯絡，提供如情人般全天候的保護。 而讓戴爾首開個人電腦產業提供自動化主動式與預測支援服務先河的SupportAssist技術，可確保電腦隨時保持最佳運作狀態。Premium Support 與Premium Support Plus搭配的家用電腦專屬Dell SupportAssist技術讓我們的專責專家團隊得以迅速解決問題，讓消費者儘快恢復正常作業。如無法遠端解決問題，戴爾就會派遣戴爾技師親自前往指定地點處理。\\r\\n\\r\\n\\t\\t\\t\\t'"
      ]
     },
     "execution_count": 104,
     "metadata": {},
     "output_type": "execute_result"
    }
   ],
   "source": [
    "' '.join([p.text for p in soup.select('.main_p')])"
   ]
  },
  {
   "cell_type": "code",
   "execution_count": 131,
   "metadata": {},
   "outputs": [],
   "source": [
    "import requests\n",
    "from bs4 import BeautifulSoup\n",
    "def getArticle(url):\n",
    "    dic = {}\n",
    "    res = requests.get(url)\n",
    "    soup = BeautifulSoup(res.text, 'html.parser')\n",
    "    dic['title'] = soup.select_one('.article_header').text\n",
    "    dic['author'] = soup.select_one('.p-t-15 span').text\n",
    "    dic['time']   = soup.select_one('time').text\n",
    "    dic['keyword']= soup.select_one('meta[name=keyword]').get('content')\n",
    "    dic['content'] = ' '.join([p.text for p in soup.select('.main_p')])\n",
    "    return dic"
   ]
  },
  {
   "cell_type": "code",
   "execution_count": 132,
   "metadata": {},
   "outputs": [
    {
     "data": {
      "text/plain": [
       "{'title': '戴爾服務全球馳名 戴爾推出情人節限定優惠',\n",
       " 'author': '陳毅斌',\n",
       " 'time': '2019-01-24',\n",
       " 'keyword': '戴爾, Dell, Dell EMC, 筆記型電腦, NB',\n",
       " 'content': '\\r\\n「陪伴是最長情的告白」，戴爾情人陪你度過冷冽寒冬，即日起至2019年2月24日止，戴爾推出「我的戴爾情人 保護你是我的責任」線上情人節買贈活動。 針對旗下Inspiron 5000、Inspiron 7000消費筆記型電腦，XPS頂級筆記型電腦系列、Vostro商用筆記型電腦系列、Dell G遊戲筆記型電腦系列以及Alienware外星人電競系列，推出限定機型買就送限定台灣地區延長保固一年，讓你在寒冬中也能擁有來自戴爾暖暖的保護。 凡於2月28日前完成登錄，更有機會抽中Tiffany & Co. 愛心墜飾 925純銀項鍊(價值NT$26,000)。 戴爾家用電腦專屬的支援服務 全球馳名 戴爾持續致力於提供高品質的售後服務。在活動期間購買指定機種，消費者不僅可以免費享有為期一年的基本硬體服務的標準保固，還有「次營業日到府服務」，消費者可指定地點讓工程師前往維修。而戴爾在給予完美呵護的同時，更尊重個人隱私與私人空間，提供保留硬碟服務，讓你在硬碟故障時，可以自行決定銷毀資料及處置硬碟的方式，免去因協力廠商管理不當而可能導致的風險，安心保存所有資料。 此外，消費者還可選購Premium Support 或是Premium Support Plus，無論是不慎掉落，或是液體潑灑，戴爾都能提供24小時全年無休的及時支援，只要透過網路或電話，即可與專家軟硬體支援直接取得聯絡，提供如情人般全天候的保護。 而讓戴爾首開個人電腦產業提供自動化主動式與預測支援服務先河的SupportAssist技術，可確保電腦隨時保持最佳運作狀態。Premium Support 與Premium Support Plus搭配的家用電腦專屬Dell SupportAssist技術讓我們的專責專家團隊得以迅速解決問題，讓消費者儘快恢復正常作業。如無法遠端解決問題，戴爾就會派遣戴爾技師親自前往指定地點處理。\\r\\n\\r\\n\\t\\t\\t\\t'}"
      ]
     },
     "execution_count": 132,
     "metadata": {},
     "output_type": "execute_result"
    }
   ],
   "source": [
    "getArticle('https://www.digitimes.com.tw/tech/dt/n/shwnws.asp?cnlid=13&id=0000552499_BRL5465W8YHU9WLV9EJ3I')"
   ]
  },
  {
   "cell_type": "code",
   "execution_count": 133,
   "metadata": {},
   "outputs": [],
   "source": [
    "import requests\n",
    "from bs4 import BeautifulSoup\n",
    "url = 'https://www.digitimes.com.tw/TECH/DT/N/SHWNWS.ASP?CNLID=1&CAT=50&ID=0000552538_A126FQPC23LPP49DXK20T'\n",
    "headers = {\n",
    "  'Cookie': 'DT%5Fmemip=Y; vid=f2ca9e7f0ba51d92; ASPSESSIONIDAGRBTTQT=NDECPEKAAEJHDBGMIHCAOALJ; _ga=GA1.3.1564384274.1548310386; _gid=GA1.3.314886181.1548310386; bodyFontFamilyAssign=1; checkie8=1%2F24%2F2019+2%3A14%3A34+PM; ASPSESSIONIDCWDBSSTQ=IEJPGBKAODKAEGMHEAAKLLHN; new_a1=new_a1; _td=40f126fd-b80a-4c6d-aadc-951ce05f63ce; ASPSESSIONIDAWSQSRDT=ALCEDDKANCBLIECGELKJEOAH; MemRights=KPS; sLgnTime=2019%2F1%2F24+%A4U%A4%C8+03%3A01%3A22; MemSID=171132356; yUID=andrea%40cathaysite%2Ecom%2Etw; promotype=N; DownMYID=andrea%40cathaysite%2Ecom%2Etw; UserIDPDF=XCA57016; MyName=%B1i%AA%E9%B5%D9; sShow=Y; MemberIDPDF=XCA77030; SSLUID=XCA57016; occupation=24; NewMemRights=1%2C9%2C3%2C4%2C10%2C13%2C17%2C99; DownMemID=XCA77030; DownUID=XCA57016'  \n",
    "}\n",
    "res = requests.get(url, headers = headers)\n",
    "soup = BeautifulSoup(res.text, 'html.parser')"
   ]
  },
  {
   "cell_type": "code",
   "execution_count": 137,
   "metadata": {},
   "outputs": [
    {
     "data": {
      "text/plain": [
       "'日本半導體大廠瑞薩電子(Renesas Electronics)的工業設備事業，佔該廠營收約30%，也是該廠在汽車零組件外積極發展的事業，針對未來方向，瑞薩於2019年1月21日在日本東京召開記者會，公布工業設備的2種新技術，e-AI及SOTB，以2022年營收各達100億日圓(約9,000萬美元)為目標，積極努力。 在記者會中，瑞薩常務董事兼工業設備事業部長、橫田善和表示，嵌入式人工智慧(AI)技術e-AI，以及超低耗電處理晶片技術SOTB，是該廠實現智慧終端(End Point Intelligence)與智慧工廠(Smart Factory)概念的重點，也是該廠工業設備事業3個主軸：智慧工廠、智慧生活、智慧基礎建設，不可或缺的部分。 橫田善和表示，現在智慧工廠的人工智慧應用，不管雲端運算，還是邊緣運算，都需要單價逼近1,000美元的人工智慧專用晶片執行；瑞薩在2015年提出e-AI，第1階段可以用該廠推出的控制器運作，第2階段的動態重組處理器(Dynamically Reconfigurable Processor，DRP)，則是2018年10月發表的RZ/A2M。 瑞薩的e-AI從2017年6月正式對外供應，迄今已有22個國家、超過250家企業測試，瑞薩自己就用在日本茨城縣那珂工廠，讓生產作業前置時間縮短3分之2，每年節省10億日圓開支；動態重組處理器是由瑞薩前身之一、日本IT大廠NEC持續研發的技術，可進一步提高e-AI能力，且有18個月能力提升10倍的潛能。 現在e-AI測試已近實用階段，瑞薩預計在2019~2020年正式事業化，並透過引進動態重組處理器，進行軟硬雙方面的持續強化。 而SOTB則是另一方面的技術，理論上僅需10μA/MHz的電力便可啟動晶片，待機時耗電可以進一步減為100分之1的100nA，這種低耗電晶片技術，可以讓物聯網(IoT)感測器不須外接有線電源或電池，只要熱電效應發電、震動發電等再生能源技術，就可維持晶片運作。 而瑞薩也已經發表SOTB相關控制器，2018年11月推出的R7F0E，目前還位於發展第1階段的R7F0E只能執行簡單的系統控制，但瑞薩預計發展到第3階段時，R7F0E系列可具有e-AI功能，讓e-AI與SOTB合而為一，進一步擴大物聯網技術的可能性。'"
      ]
     },
     "execution_count": 137,
     "metadata": {},
     "output_type": "execute_result"
    }
   ],
   "source": [
    "' '.join([p.text for p in soup.select('.main_p')]).split('function')[0].strip()"
   ]
  },
  {
   "cell_type": "code",
   "execution_count": null,
   "metadata": {},
   "outputs": [],
   "source": []
  },
  {
   "cell_type": "code",
   "execution_count": null,
   "metadata": {},
   "outputs": [],
   "source": []
  }
 ],
 "metadata": {
  "kernelspec": {
   "display_name": "Python 3",
   "language": "python",
   "name": "python3"
  },
  "language_info": {
   "codemirror_mode": {
    "name": "ipython",
    "version": 3
   },
   "file_extension": ".py",
   "mimetype": "text/x-python",
   "name": "python",
   "nbconvert_exporter": "python",
   "pygments_lexer": "ipython3",
   "version": "3.6.5"
  }
 },
 "nbformat": 4,
 "nbformat_minor": 2
}
